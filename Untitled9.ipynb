{
 "cells": [
  {
   "cell_type": "raw",
   "metadata": {},
   "source": [
    "# Assignment -2 \n"
   ]
  },
  {
   "cell_type": "raw",
   "metadata": {},
   "source": [
    "1.What are the two values of the Boolean data type? How do you write them?\n",
    "\n",
    "Ans: The two values of boolean datatype are True And False. We can write them like True and False , the main thing here is that it should be started with uppercase as written."
   ]
  },
  {
   "cell_type": "raw",
   "metadata": {},
   "source": [
    "2. What are the three different types of Boolean operators?\n",
    "\n",
    "Ans: The three different types of boolean operators are :\n",
    "                                                         a) And \n",
    "                                                         b) OR\n",
    "                                                         c) NOT \n",
    "AND is represented by (&& or \"and\")\n",
    "OR is represented by(|| or \"or\")\n",
    "NOT is represented by (not)\n",
    "                                                     "
   ]
  },
  {
   "cell_type": "raw",
   "metadata": {},
   "source": [
    "3. Make a list of each Boolean operator's truth tables (i.e. every possible combination of Boolean\n",
    "values for the operator and what it evaluate ).\n"
   ]
  },
  {
   "cell_type": "code",
   "execution_count": 16,
   "metadata": {},
   "outputs": [
    {
     "name": "stdout",
     "output_type": "stream",
     "text": [
      "\n",
      "The AND operator truth table\n",
      " A  B AandB\n",
      "[0, 0, 0]\n",
      "[0, 1, 0]\n",
      "[1, 1, 1]\n",
      "\n",
      "The OR operator truth table\n",
      " A  B AorB\n",
      "[0, 0, 0]\n",
      "[0, 1, 1]\n",
      "[1, 1, 1]\n",
      "\n",
      "The NOT operator truth table\n",
      " A notA\n",
      "[0, 1]\n",
      "[1, 0]\n"
     ]
    }
   ],
   "source": [
    "andList = [[0, 0 ,0],[0,1,0],[1,1,1]]\n",
    "\n",
    "print(\"\\nThe AND operator truth table\")\n",
    "print(\" A  B AandB\")\n",
    "for i in andList:\n",
    "    print(i)\n",
    "    \n",
    "orList = [[0, 0 ,0],[0,1,1],[1,1,1]]\n",
    "\n",
    "print(\"\\nThe OR operator truth table\")\n",
    "print(\" A  B AorB\")\n",
    "for i in orList:\n",
    "    print(i)\n",
    "    \n",
    "notList = [[0, 1],[1,0]]\n",
    "\n",
    "print(\"\\nThe NOT operator truth table\")\n",
    "print(\" A notA\")\n",
    "for i in notList:\n",
    "    print(i)"
   ]
  },
  {
   "cell_type": "raw",
   "metadata": {},
   "source": [
    "4. What are the values of the following expressions?\n",
    "\n",
    "(5>4) and (3 == 5)\n",
    "Here we get the value as False\n",
    "\n",
    "not (5 > 4)\n",
    "Here we get the value as True\n",
    "\n",
    "(5 >4) or (3 == 5)\n",
    "Here we get the value as True\n",
    "\n",
    "not ((5 >4) or (3 == 5))\n",
    "Here we get the value as False\n",
    "\n",
    "(True and True) and (True == False)\n",
    "Here we get the value as False\n",
    "\n",
    "(not False) or (not True)\n",
    "Here we get the value as True\n",
    "\n"
   ]
  },
  {
   "cell_type": "raw",
   "metadata": {},
   "source": [
    "5. What are the six comparison operators?\n",
    "\n",
    "Ans : \n",
    "The six comparison operators are :\n",
    "\n",
    "== equal to\n",
    "!= Not equal\n",
    "> greater than\n",
    "< less than\n",
    ">= greater than or equal to\n",
    "<= less than or equal to\n",
    "\n",
    "\n"
   ]
  },
  {
   "cell_type": "markdown",
   "metadata": {},
   "source": [
    " "
   ]
  },
  {
   "cell_type": "raw",
   "metadata": {},
   "source": [
    "6.How do you tell the difference between the equal to and assignment operators?Describe a condition and when you would use one.\n",
    "\n",
    "Ans: The difference between equal to and assignment operator is , equal to is a comparison operator And Assignment operator is that assigns a value to the variable.\n",
    "\n",
    "EXAMPLE: a=3\n",
    "        here the variable a is assigned with a value 3 by the help of symbol \"=\"\n",
    "        a==3\n",
    "        here a is compared with the value 3 by the help of symbol \"==\"\n",
    "        \n",
    "The basic difference is that equal to is represented by \"=\". Where as asssignment operator is represented by \"==\" ."
   ]
  },
  {
   "cell_type": "raw",
   "metadata": {},
   "source": [
    "7. Identify the three blocks in this code:\n",
    "spam = 0\n",
    "if spam == 10:\n",
    "print\"eggs\")\n",
    "if spam > 5:\n",
    "print(\"bacon\")\n",
    "else:\n",
    "print(\"ham\")\n",
    "print(\"spam\")\n",
    "print(\"spam\")\n",
    "\n",
    "Ans: The three blocks in this code are \n",
    "\n",
    "1st block\n",
    "spam = 0\n",
    "if spam == 10:\n",
    "print\"eggs\")\n",
    "\n",
    "2nd block \n",
    "if spam > 5:\n",
    "print(\"bacon\")\n",
    "\n",
    "3rd block:\n",
    "else:\n",
    "print(\"ham\")\n",
    "print(\"spam\")\n",
    "print(\"spam\")\n",
    "\n"
   ]
  },
  {
   "cell_type": "raw",
   "metadata": {},
   "source": [
    "8. Write code that prints Hello if 1 is stored in spam, prints Howdy if 2 is stored in spam, and prints\n",
    "Greetings! if anything else is stored in spam.\n",
    "\n",
    "Ans: spam=int(input())\n",
    "     if spam == 1:\n",
    "       print(\"hello\")\n",
    "     if spam == 2:\n",
    "       print(\"Howdy\")\n",
    "     else:\n",
    "       print(\"greetings\")\n",
    "       \n"
   ]
  },
  {
   "cell_type": "raw",
   "metadata": {},
   "source": [
    "9.If your programme is stuck in an endless loop, what keys you’ll press?\n",
    "\n",
    "Ans:Press CTRL+C to stop the program stuck in the endless loop."
   ]
  },
  {
   "cell_type": "raw",
   "metadata": {},
   "source": [
    "10. How can you tell the difference between break and continue?\n",
    "\n",
    "Ans: The BREAK statemnt move the execution outside and just after a loop. The CONTINUE statement will move the execution to the start of the loop. "
   ]
  },
  {
   "cell_type": "raw",
   "metadata": {},
   "source": [
    "11. In a for loop, what is the difference between range(10), range(0, 10), and range(0, 10, 1)?\n",
    "\n",
    "Ans:  In a for loop range (10) takes the value of i from 0th index to the (10-1)=9th index \n",
    "                    range(0,10) takes the value of i starting from 0th index to 9th index \n",
    "      There is no major difference  between range(10) , Range(0,10) the only difference is the mentioning of start and end value .\n",
    "      range(0,10,1) its is same like that the above one but it takes the jump 1 here. "
   ]
  },
  {
   "cell_type": "code",
   "execution_count": null,
   "metadata": {},
   "outputs": [],
   "source": []
  },
  {
   "cell_type": "raw",
   "metadata": {},
   "source": [
    "12. Write a short program that prints the numbers 1 to 10 using a for loop. Then write an equivalent\n",
    "program that prints the numbers 1 to 10 using a while loop.\n",
    "\n",
    "Ans: using for loop :\n",
    "            \n",
    "            for i in range(10):\n",
    "                 print(i)\n",
    "  \n",
    "     using while loop:\n",
    "            \n",
    "            a=1\n",
    "            while a<11:\n",
    "                print(a)\n",
    "                a=a+1\n",
    "     \n",
    "     "
   ]
  },
  {
   "cell_type": "code",
   "execution_count": null,
   "metadata": {},
   "outputs": [],
   "source": []
  },
  {
   "cell_type": "raw",
   "metadata": {},
   "source": [
    "13. If you had a function named bacon() inside a module named spam, how would you call it after\n",
    "importing spam?\n",
    "\n",
    "ans : import spam\n",
    "      a = spam.bacon()"
   ]
  }
 ],
 "metadata": {
  "kernelspec": {
   "display_name": "Python 3",
   "language": "python",
   "name": "python3"
  },
  "language_info": {
   "codemirror_mode": {
    "name": "ipython",
    "version": 3
   },
   "file_extension": ".py",
   "mimetype": "text/x-python",
   "name": "python",
   "nbconvert_exporter": "python",
   "pygments_lexer": "ipython3",
   "version": "3.8.5"
  }
 },
 "nbformat": 4,
 "nbformat_minor": 4
}
