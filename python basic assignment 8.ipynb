{
 "cells": [
  {
   "cell_type": "markdown",
   "metadata": {},
   "source": [
    "# 1. Is the Python Standard Library included with PyInputPlus?"
   ]
  },
  {
   "cell_type": "markdown",
   "metadata": {},
   "source": [
    "PyInputplus is not a part of Python Standard Library ,so you have to install it seperately using pip"
   ]
  },
  {
   "cell_type": "code",
   "execution_count": 8,
   "metadata": {},
   "outputs": [],
   "source": [
    "#!pip install pyinputplus"
   ]
  },
  {
   "cell_type": "markdown",
   "metadata": {},
   "source": [
    "# 2. Why is PyInputPlus commonly imported with import pyinputplus as pypi?"
   ]
  },
  {
   "cell_type": "markdown",
   "metadata": {},
   "source": [
    "pypi is alias of PyInputPlus.\n",
    "\n",
    "\n",
    "So when we want to call PyInputPlus every time it is difficult so we can go ahead with pypi"
   ]
  },
  {
   "cell_type": "markdown",
   "metadata": {},
   "source": [
    "# 3. How do you distinguish between inputInt() and inputFloat()?\n",
    "inputInt() : Accepts an integer value, and returns int value\n",
    "\n",
    "\n",
    "inputFloat() : Accepts integer/floating point value and returns float value\n",
    "\n",
    "\n",
    "Both takes additional parameters ‘min’, ‘max’, ‘greaterThan’ and ‘lessThan’  for bounds"
   ]
  },
  {
   "cell_type": "markdown",
   "metadata": {},
   "source": [
    "# 4. Using PyInputPlus, how do you ensure that the user enters a whole number between 0 and 99?\n",
    "In the inputint function we can set the min = 0 and max =99 to ensure user enters number between 0 and 99"
   ]
  },
  {
   "cell_type": "markdown",
   "metadata": {},
   "source": [
    "# 5. What is transferred to the keyword arguments allowRegexes and blockRegexes?\n",
    "we can also use regular expressions to specify whether an input is allowed or not. The allowRegexes and blockRegexes \n",
    "keyword arguments take a list of regular expression strings to determine what the PyInputPlus function will accept or \n",
    "reject as valid input."
   ]
  },
  {
   "cell_type": "markdown",
   "metadata": {},
   "source": [
    "# 6. If a blank input is entered three times, what does inputStr(limit=3) do?\n",
    "it will throw RetryLimitException exception."
   ]
  },
  {
   "cell_type": "markdown",
   "metadata": {},
   "source": [
    "# 7. If blank input is entered three times, what does inputStr(limit=3, default='hello') do?\n",
    "When you use limit keyword arguments and also pass a default keyword argument, the function returns the default value instead of raising an exception"
   ]
  },
  {
   "cell_type": "code",
   "execution_count": null,
   "metadata": {},
   "outputs": [],
   "source": []
  }
 ],
 "metadata": {
  "kernelspec": {
   "display_name": "Python 3",
   "language": "python",
   "name": "python3"
  },
  "language_info": {
   "codemirror_mode": {
    "name": "ipython",
    "version": 3
   },
   "file_extension": ".py",
   "mimetype": "text/x-python",
   "name": "python",
   "nbconvert_exporter": "python",
   "pygments_lexer": "ipython3",
   "version": "3.8.5"
  }
 },
 "nbformat": 4,
 "nbformat_minor": 4
}
