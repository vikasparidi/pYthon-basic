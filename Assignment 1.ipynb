{
 "cells": [
  {
   "cell_type": "markdown",
   "metadata": {},
   "source": [
    "1.)In the below elements which of them are values or an expression? eg:- values can be\n",
    "integer or string and expressions will be mathematical operators.\n",
    "*\n",
    "hello\"\n",
    "-87.8\n",
    "-\n",
    "/\n",
    "+\n",
    "6"
   ]
  },
  {
   "cell_type": "markdown",
   "metadata": {},
   "source": [
    "Ans: In the above elements values are : 'hello',-87.8,6\n",
    "     In the above elemenst expressions are : * ,/, +, -\n",
    "     \n",
    "     \n",
    "     "
   ]
  },
  {
   "cell_type": "markdown",
   "metadata": {},
   "source": [
    "2.) What is the difference between string and variable?\n",
    "\n",
    "Ans: A string is a values assigned inside quotes but where as varaible is the name of location in the primary memory of computer.\n",
    "\n",
    "A=\"vikas\" here \"vikas\" is a string but where as A is a varaible."
   ]
  },
  {
   "cell_type": "markdown",
   "metadata": {},
   "source": [
    "3. Describe three different data types.\n",
    "Ans: The three different types of datatypes are\n",
    "string\n",
    "list\n",
    "tuple \n",
    "\n",
    "q=\"vikas\"\n",
    "here \"vikas\" is a string datatype.\n",
    "l=[1,2,3,4,5,6]\n",
    "here l is a list datatype ,list is a mutable datatype where we can add, remove the elements from the list.\n",
    "and list id noted down by square brackets []\n",
    "t=(1,2,3,4,5,6)\n",
    "here t is a tuple datatype, tuple is a immutable datatype as we cannot add and remove the elements from the tuple.\n",
    "Tuples are noted down in a () - simple brackets \n"
   ]
  },
  {
   "cell_type": "markdown",
   "metadata": {},
   "source": [
    "4. What is an expression made up of? What do all expressions do?\n",
    "\n",
    "\n",
    "Ans: An expression is made up combining the operators and operands that ultimately gives the other value.In any programming language, an expression is evaluated as per the precedenceof its operators.\n",
    "All expression perform the operation of obtaining the new value.\n",
    "example: 2+3*8-9\n",
    "here 3,2,8,9 are operands and +-* are operators\n",
    "\n"
   ]
  },
  {
   "cell_type": "markdown",
   "metadata": {},
   "source": [
    "5. This assignment statements, like spam = 10. What is the difference between an\n",
    "expression and a statement?\n",
    "\n",
    "\n",
    "In programming language terminology, an expression is a combination of values and functions that are combined and interpreted by the compiler to create anew value, as opposed to \"statement\" which is just a standalone unit of execution and dosen't return anything.\n",
    "\n",
    "In short--An expression always evaluates to a value. And, A statement does something like creating a variable or displaying a value, it only does whether the statement says."
   ]
  },
  {
   "cell_type": "markdown",
   "metadata": {},
   "source": [
    "6. After running the following code, what does the variable bacon contain?\n",
    "bacon = 22\n",
    "bacon + 1\n",
    "\n",
    "\n",
    "Ans: after running the varaible bacon contain the value 23 ."
   ]
  },
  {
   "cell_type": "markdown",
   "metadata": {},
   "source": [
    "7. What should the values of the following two terms be?\n",
    "\n",
    "1- 'spam'+'spamspam'= 'spamspamspam'\n",
    "2- 'spam'*3         =  'spamspamspam'"
   ]
  },
  {
   "cell_type": "markdown",
   "metadata": {},
   "source": [
    "8. Why is eggs a valid variable name while 100 is invalid?\n",
    "\n",
    "\n",
    "Ans :Yes eggs is a valid variable but 100 is invalid because when we keep 100 as a variable we get the syntaxerror as \"cannot assign to literal\" but we don't have any issues with  the variable name eggs."
   ]
  },
  {
   "cell_type": "markdown",
   "metadata": {},
   "source": [
    "9. What three functions can be used to get the integer, floating-point number, or string\n",
    "version of a value?\n",
    "\n",
    "\n",
    "Ans: The three functions can be used to get the interger value is \"int\"\n",
    "\n",
    "\n",
    "floating-point number value is\"float\"\n",
    "\n",
    "string value is \"str\""
   ]
  },
  {
   "cell_type": "markdown",
   "metadata": {},
   "source": [
    "10. Why does this expression cause an error? How can you fix it?\n",
    "'i have eaten'+'99'+'burritos\n",
    "\n",
    "\n",
    "Ans: As the expression doesn't contain all strings it is not possible to add . As we know that only a string and another string datatype can be added. So we can fix the error by converting the remaining term into a string.\n",
    "\n",
    "\n",
    "\n",
    "So the correct value is 'i have eaten' +'99'+'burritos'"
   ]
  },
  {
   "cell_type": "code",
   "execution_count": null,
   "metadata": {},
   "outputs": [],
   "source": []
  },
  {
   "cell_type": "code",
   "execution_count": null,
   "metadata": {},
   "outputs": [],
   "source": []
  }
 ],
 "metadata": {
  "kernelspec": {
   "display_name": "Python 3",
   "language": "python",
   "name": "python3"
  },
  "language_info": {
   "codemirror_mode": {
    "name": "ipython",
    "version": 3
   },
   "file_extension": ".py",
   "mimetype": "text/x-python",
   "name": "python",
   "nbconvert_exporter": "python",
   "pygments_lexer": "ipython3",
   "version": "3.8.5"
  }
 },
 "nbformat": 4,
 "nbformat_minor": 4
}
