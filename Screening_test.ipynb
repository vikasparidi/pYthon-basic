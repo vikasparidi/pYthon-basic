{
 "cells": [
  {
   "cell_type": "markdown",
   "id": "5a0232cc",
   "metadata": {},
   "source": [
    "#### 1.Create a function in python to read the text file and replace specific content of the file."
   ]
  },
  {
   "cell_type": "markdown",
   "id": "bb297fd4",
   "metadata": {},
   "source": [
    "##### File name=example.txt\n",
    "##### Origin file content=This is a placement assignment\n",
    "##### Replace string=Placement should be replaced by screening.\n",
    "##### Replaced file content=This is a screening assignment"
   ]
  },
  {
   "cell_type": "code",
   "execution_count": 59,
   "id": "386cba8e",
   "metadata": {},
   "outputs": [],
   "source": [
    "f=open(\"example.txt\",mode=\"w\")#creating a new file named example.txt"
   ]
  },
  {
   "cell_type": "code",
   "execution_count": 60,
   "id": "d345c28e",
   "metadata": {},
   "outputs": [
    {
     "data": {
      "text/plain": [
       "30"
      ]
     },
     "execution_count": 60,
     "metadata": {},
     "output_type": "execute_result"
    }
   ],
   "source": [
    "f.write(\"This is a placement assignment\")#writing the data to the file"
   ]
  },
  {
   "cell_type": "code",
   "execution_count": 62,
   "id": "3ae26d41",
   "metadata": {},
   "outputs": [],
   "source": [
    "f.close()#closing the file"
   ]
  },
  {
   "cell_type": "code",
   "execution_count": 65,
   "id": "2de73925",
   "metadata": {},
   "outputs": [],
   "source": [
    "f=open(\"example.txt\",mode=\"r+\")#opening the file examples in the read+ mode"
   ]
  },
  {
   "cell_type": "code",
   "execution_count": 82,
   "id": "0d35d966",
   "metadata": {},
   "outputs": [],
   "source": [
    "data=f.read()#taking the data in the file to a new variable"
   ]
  },
  {
   "cell_type": "code",
   "execution_count": 83,
   "id": "2f009238",
   "metadata": {},
   "outputs": [],
   "source": [
    "data=data.replace('placement','screening')#replacing the string \"placement\" with the string \"screening\""
   ]
  },
  {
   "cell_type": "code",
   "execution_count": 81,
   "id": "acf5ecf4",
   "metadata": {},
   "outputs": [
    {
     "data": {
      "text/plain": [
       "0"
      ]
     },
     "execution_count": 81,
     "metadata": {},
     "output_type": "execute_result"
    }
   ],
   "source": [
    "f.seek(0)#positioning the cursor to the satring of the file"
   ]
  },
  {
   "cell_type": "code",
   "execution_count": 84,
   "id": "4f24f017",
   "metadata": {},
   "outputs": [
    {
     "name": "stdout",
     "output_type": "stream",
     "text": [
      "This is a screening assignment\n"
     ]
    }
   ],
   "source": [
    "print(data)#checking the new replaced data"
   ]
  },
  {
   "cell_type": "code",
   "execution_count": 88,
   "id": "1bdffd28",
   "metadata": {},
   "outputs": [
    {
     "data": {
      "text/plain": [
       "0"
      ]
     },
     "execution_count": 88,
     "metadata": {},
     "output_type": "execute_result"
    }
   ],
   "source": [
    "f.seek(0)#again positioning the cursor to the satring of the file"
   ]
  },
  {
   "cell_type": "code",
   "execution_count": 86,
   "id": "c28eae0c",
   "metadata": {},
   "outputs": [
    {
     "data": {
      "text/plain": [
       "30"
      ]
     },
     "execution_count": 86,
     "metadata": {},
     "output_type": "execute_result"
    }
   ],
   "source": [
    "f.write(data)#overwrting the old data with the new modified data"
   ]
  },
  {
   "cell_type": "code",
   "execution_count": 90,
   "id": "7651bfbc",
   "metadata": {},
   "outputs": [
    {
     "data": {
      "text/plain": [
       "0"
      ]
     },
     "execution_count": 90,
     "metadata": {},
     "output_type": "execute_result"
    }
   ],
   "source": [
    "f.seek(0)#moving cursor to initial position"
   ]
  },
  {
   "cell_type": "code",
   "execution_count": 91,
   "id": "69bdd781",
   "metadata": {},
   "outputs": [
    {
     "data": {
      "text/plain": [
       "'This is a screening assignment'"
      ]
     },
     "execution_count": 91,
     "metadata": {},
     "output_type": "execute_result"
    }
   ],
   "source": [
    "f.read()#printing the new modified file"
   ]
  },
  {
   "cell_type": "markdown",
   "id": "24893ed6",
   "metadata": {},
   "source": [
    "#### 2.Demonstrate use of abstract class, multiple inhertance and decorator in python using examples"
   ]
  },
  {
   "cell_type": "markdown",
   "id": "52ddf3f2",
   "metadata": {},
   "source": [
    "##### 1.abstract class"
   ]
  },
  {
   "cell_type": "markdown",
   "id": "08c34729",
   "metadata": {},
   "source": [
    "##### an abstract class is a blueprint or a sketch for the other classes. it allows you to create set of methods called abstract methods which are used to create in the child classes. the abstract method only declarations but not the implementations of the code in it.By defining an abstract base class, you can define a common Application Program Interface(API) for a set of subclasses."
   ]
  },
  {
   "cell_type": "code",
   "execution_count": 101,
   "id": "ba95b8b3",
   "metadata": {},
   "outputs": [
    {
     "name": "stdout",
     "output_type": "stream",
     "text": [
      "I have 2 wheels\n",
      "I have 2 wheels\n",
      "I have 3 wheels\n",
      "I have 4 wheels\n"
     ]
    }
   ],
   "source": [
    "try:\n",
    "# abstract base class\n",
    "    class Vehicle():\n",
    "        #abstract method\n",
    "        def noofwheels(self):\n",
    "            pass\n",
    "\n",
    "\n",
    "    class Bicycle(Vehicle):\n",
    "        # overriding abstract method\n",
    "        def noofwheels(self):\n",
    "            print(\"I have 2 wheels\")\n",
    "\n",
    "    class Bike(Bicycle):\n",
    "        pass\n",
    "\n",
    "    class auto(Vehicle):\n",
    "        # overriding abstract method\n",
    "        def noofwheels(self):\n",
    "            print(\"I have 3 wheels\")\n",
    "\n",
    "    class car(Vehicle):\n",
    "        # overriding abstract method\n",
    "        def noofwheels(self):\n",
    "            print(\"I have 4 wheels\")\n",
    "\n",
    "    R = Bicycle()\n",
    "    R.noofwheels()\n",
    "\n",
    "    K = Bike()\n",
    "    K.noofwheels()\n",
    "\n",
    "    R = auto()\n",
    "    R.noofwheels()\n",
    "\n",
    "    K = car()\n",
    "    K.noofwheels()\n",
    "\n",
    "except Exception as e:\n",
    "    print(e)\n"
   ]
  },
  {
   "cell_type": "markdown",
   "id": "c508851a",
   "metadata": {},
   "source": [
    "##### in the above program the Vehcile is the abstract class which created a blue print for the method noofwheels and the child classes which are inherted with the abstract class overwrote the absract method with there respective necessity"
   ]
  },
  {
   "cell_type": "markdown",
   "id": "37c22eec",
   "metadata": {},
   "source": [
    "##### 2.multiple inhertance"
   ]
  },
  {
   "cell_type": "markdown",
   "id": "854e7edc",
   "metadata": {},
   "source": [
    "##### multiple inhertance is the process of inherting more than one class into a child class. it is used to get the properties and methods from more than one class in to a child class.it is ued to for the reusablity of more than one classes in the child class."
   ]
  },
  {
   "cell_type": "code",
   "execution_count": 102,
   "id": "ae55e49a",
   "metadata": {},
   "outputs": [
    {
     "name": "stdout",
     "output_type": "stream",
     "text": [
      "In Class2\n"
     ]
    }
   ],
   "source": [
    "# Python Program to depict multiple inheritance\n",
    "# when method is overridden in both classes\n",
    "try:\n",
    "    class Class1:\n",
    "        def m(self):\n",
    "            print(\"In Class1\")\n",
    "\n",
    "    class Class2(Class1):\n",
    "        def m(self):\n",
    "            print(\"In Class2\")\n",
    "\n",
    "    class Class3(Class1):\n",
    "        def m(self):\n",
    "            print(\"In Class3\")\n",
    "\n",
    "    class Class4(Class2, Class3):\n",
    "        pass\n",
    "\n",
    "    obj = Class4()\n",
    "    obj.m()\n",
    "\n",
    "except Exception as e:\n",
    "    print(e)"
   ]
  },
  {
   "cell_type": "markdown",
   "id": "0cb65fce",
   "metadata": {},
   "source": [
    "##### When you call obj.m() (m on the instance of Class4) the output is In Class2. If Class4 is declared as Class4(Class3, Class2) then the output of obj.m() will be In Class3.\n"
   ]
  },
  {
   "cell_type": "markdown",
   "id": "8defae0e",
   "metadata": {},
   "source": [
    "##### 3.decorator"
   ]
  },
  {
   "cell_type": "markdown",
   "id": "470c8f2e",
   "metadata": {},
   "source": [
    "##### decorator are the tools used in python to modify or to customize the funcionality of the function or a class in the code. a decorator is a function that takes another function and extends the behavior of the latter function without explicitly modifying it. the keywords of the decorator are followed with the special character \"@\" ."
   ]
  },
  {
   "cell_type": "code",
   "execution_count": 103,
   "id": "f853c6a1",
   "metadata": {},
   "outputs": [
    {
     "name": "stdout",
     "output_type": "stream",
     "text": [
      "******************************\n",
      "%%%%%%%%%%%%%%%%%%%%%%%%%%%%%%\n",
      "Hello\n",
      "%%%%%%%%%%%%%%%%%%%%%%%%%%%%%%\n",
      "******************************\n"
     ]
    }
   ],
   "source": [
    "def star(func):\n",
    "    def inner(*args, **kwargs):\n",
    "        print(\"*\" * 30)\n",
    "        func(*args, **kwargs)\n",
    "        print(\"*\" * 30)\n",
    "    return inner\n",
    "\n",
    "\n",
    "def percent(func):\n",
    "    def inner(*args, **kwargs):\n",
    "        print(\"%\" * 30)\n",
    "        func(*args, **kwargs)\n",
    "        print(\"%\" * 30)\n",
    "    return inner\n",
    "\n",
    "\n",
    "@star\n",
    "@percent\n",
    "def printer(msg):\n",
    "    print(msg)\n",
    "\n",
    "\n",
    "printer(\"Hello\")"
   ]
  }
 ],
 "metadata": {
  "kernelspec": {
   "display_name": "Python 3",
   "language": "python",
   "name": "python3"
  },
  "language_info": {
   "codemirror_mode": {
    "name": "ipython",
    "version": 3
   },
   "file_extension": ".py",
   "mimetype": "text/x-python",
   "name": "python",
   "nbconvert_exporter": "python",
   "pygments_lexer": "ipython3",
   "version": "3.8.8"
  }
 },
 "nbformat": 4,
 "nbformat_minor": 5
}
